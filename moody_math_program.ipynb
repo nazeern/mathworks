{
 "cells": [
  {
   "cell_type": "code",
   "execution_count": 683,
   "metadata": {},
   "outputs": [],
   "source": [
    "import numpy as np\n",
    "import pandas as pd\n"
   ]
  },
  {
   "cell_type": "code",
   "execution_count": 684,
   "metadata": {},
   "outputs": [],
   "source": [
    "prod = pd.read_csv(\"truck_production.csv\")\n",
    "prod.columns = ['yr', 'r', 'lh', 'tot', '%r', '%lh']\n",
    "prod.set_index('yr',drop=False, inplace=True)\n"
   ]
  },
  {
   "cell_type": "code",
   "execution_count": 685,
   "metadata": {},
   "outputs": [
    {
     "data": {
      "text/html": [
       "<div>\n",
       "<style scoped>\n",
       "    .dataframe tbody tr th:only-of-type {\n",
       "        vertical-align: middle;\n",
       "    }\n",
       "\n",
       "    .dataframe tbody tr th {\n",
       "        vertical-align: top;\n",
       "    }\n",
       "\n",
       "    .dataframe thead th {\n",
       "        text-align: right;\n",
       "    }\n",
       "</style>\n",
       "<table border=\"1\" class=\"dataframe\">\n",
       "  <thead>\n",
       "    <tr style=\"text-align: right;\">\n",
       "      <th></th>\n",
       "      <th>yr</th>\n",
       "      <th>r</th>\n",
       "      <th>lh</th>\n",
       "      <th>tot</th>\n",
       "      <th>%r</th>\n",
       "      <th>%lh</th>\n",
       "    </tr>\n",
       "    <tr>\n",
       "      <th>yr</th>\n",
       "      <th></th>\n",
       "      <th></th>\n",
       "      <th></th>\n",
       "      <th></th>\n",
       "      <th></th>\n",
       "      <th></th>\n",
       "    </tr>\n",
       "  </thead>\n",
       "  <tbody>\n",
       "    <tr>\n",
       "      <td>1999</td>\n",
       "      <td>1999</td>\n",
       "      <td>36910</td>\n",
       "      <td>180205</td>\n",
       "      <td>217115</td>\n",
       "      <td>17</td>\n",
       "      <td>83</td>\n",
       "    </tr>\n",
       "    <tr>\n",
       "      <td>2000</td>\n",
       "      <td>2000</td>\n",
       "      <td>35211</td>\n",
       "      <td>105632</td>\n",
       "      <td>140843</td>\n",
       "      <td>25</td>\n",
       "      <td>75</td>\n",
       "    </tr>\n",
       "    <tr>\n",
       "      <td>2001</td>\n",
       "      <td>2001</td>\n",
       "      <td>25124</td>\n",
       "      <td>48771</td>\n",
       "      <td>73895</td>\n",
       "      <td>34</td>\n",
       "      <td>66</td>\n",
       "    </tr>\n",
       "    <tr>\n",
       "      <td>2002</td>\n",
       "      <td>2002</td>\n",
       "      <td>39794</td>\n",
       "      <td>62241</td>\n",
       "      <td>102035</td>\n",
       "      <td>39</td>\n",
       "      <td>61</td>\n",
       "    </tr>\n",
       "    <tr>\n",
       "      <td>2003</td>\n",
       "      <td>2003</td>\n",
       "      <td>45652</td>\n",
       "      <td>60516</td>\n",
       "      <td>106168</td>\n",
       "      <td>43</td>\n",
       "      <td>57</td>\n",
       "    </tr>\n",
       "    <tr>\n",
       "      <td>2004</td>\n",
       "      <td>2004</td>\n",
       "      <td>77035</td>\n",
       "      <td>77035</td>\n",
       "      <td>154070</td>\n",
       "      <td>50</td>\n",
       "      <td>50</td>\n",
       "    </tr>\n",
       "    <tr>\n",
       "      <td>2005</td>\n",
       "      <td>2005</td>\n",
       "      <td>77893</td>\n",
       "      <td>112091</td>\n",
       "      <td>189984</td>\n",
       "      <td>41</td>\n",
       "      <td>59</td>\n",
       "    </tr>\n",
       "    <tr>\n",
       "      <td>2006</td>\n",
       "      <td>2006</td>\n",
       "      <td>90008</td>\n",
       "      <td>114555</td>\n",
       "      <td>204563</td>\n",
       "      <td>44</td>\n",
       "      <td>56</td>\n",
       "    </tr>\n",
       "    <tr>\n",
       "      <td>2007</td>\n",
       "      <td>2007</td>\n",
       "      <td>36878</td>\n",
       "      <td>48884</td>\n",
       "      <td>85762</td>\n",
       "      <td>43</td>\n",
       "      <td>57</td>\n",
       "    </tr>\n",
       "    <tr>\n",
       "      <td>2008</td>\n",
       "      <td>2008</td>\n",
       "      <td>35505</td>\n",
       "      <td>57930</td>\n",
       "      <td>93435</td>\n",
       "      <td>38</td>\n",
       "      <td>62</td>\n",
       "    </tr>\n",
       "    <tr>\n",
       "      <td>2009</td>\n",
       "      <td>2009</td>\n",
       "      <td>23009</td>\n",
       "      <td>46715</td>\n",
       "      <td>69724</td>\n",
       "      <td>33</td>\n",
       "      <td>67</td>\n",
       "    </tr>\n",
       "    <tr>\n",
       "      <td>2010</td>\n",
       "      <td>2010</td>\n",
       "      <td>37798</td>\n",
       "      <td>44372</td>\n",
       "      <td>82170</td>\n",
       "      <td>46</td>\n",
       "      <td>54</td>\n",
       "    </tr>\n",
       "    <tr>\n",
       "      <td>2011</td>\n",
       "      <td>2011</td>\n",
       "      <td>74237</td>\n",
       "      <td>71325</td>\n",
       "      <td>145562</td>\n",
       "      <td>51</td>\n",
       "      <td>49</td>\n",
       "    </tr>\n",
       "    <tr>\n",
       "      <td>2012</td>\n",
       "      <td>2012</td>\n",
       "      <td>74361</td>\n",
       "      <td>80558</td>\n",
       "      <td>154919</td>\n",
       "      <td>48</td>\n",
       "      <td>52</td>\n",
       "    </tr>\n",
       "    <tr>\n",
       "      <td>2013</td>\n",
       "      <td>2013</td>\n",
       "      <td>70667</td>\n",
       "      <td>67896</td>\n",
       "      <td>138563</td>\n",
       "      <td>51</td>\n",
       "      <td>49</td>\n",
       "    </tr>\n",
       "    <tr>\n",
       "      <td>2014</td>\n",
       "      <td>2014</td>\n",
       "      <td>103295</td>\n",
       "      <td>74799</td>\n",
       "      <td>178094</td>\n",
       "      <td>58</td>\n",
       "      <td>42</td>\n",
       "    </tr>\n",
       "    <tr>\n",
       "      <td>2015</td>\n",
       "      <td>2015</td>\n",
       "      <td>107995</td>\n",
       "      <td>95769</td>\n",
       "      <td>203764</td>\n",
       "      <td>53</td>\n",
       "      <td>47</td>\n",
       "    </tr>\n",
       "    <tr>\n",
       "      <td>2016</td>\n",
       "      <td>2016</td>\n",
       "      <td>68355</td>\n",
       "      <td>55927</td>\n",
       "      <td>124282</td>\n",
       "      <td>55</td>\n",
       "      <td>45</td>\n",
       "    </tr>\n",
       "    <tr>\n",
       "      <td>2017</td>\n",
       "      <td>2017</td>\n",
       "      <td>68086</td>\n",
       "      <td>70866</td>\n",
       "      <td>138952</td>\n",
       "      <td>49</td>\n",
       "      <td>51</td>\n",
       "    </tr>\n",
       "    <tr>\n",
       "      <td>2018</td>\n",
       "      <td>2018</td>\n",
       "      <td>103239</td>\n",
       "      <td>91551</td>\n",
       "      <td>194790</td>\n",
       "      <td>53</td>\n",
       "      <td>47</td>\n",
       "    </tr>\n",
       "    <tr>\n",
       "      <td>2019</td>\n",
       "      <td>2019</td>\n",
       "      <td>109442</td>\n",
       "      <td>101024</td>\n",
       "      <td>210466</td>\n",
       "      <td>52</td>\n",
       "      <td>48</td>\n",
       "    </tr>\n",
       "  </tbody>\n",
       "</table>\n",
       "</div>"
      ],
      "text/plain": [
       "        yr       r      lh     tot  %r  %lh\n",
       "yr                                         \n",
       "1999  1999   36910  180205  217115  17   83\n",
       "2000  2000   35211  105632  140843  25   75\n",
       "2001  2001   25124   48771   73895  34   66\n",
       "2002  2002   39794   62241  102035  39   61\n",
       "2003  2003   45652   60516  106168  43   57\n",
       "2004  2004   77035   77035  154070  50   50\n",
       "2005  2005   77893  112091  189984  41   59\n",
       "2006  2006   90008  114555  204563  44   56\n",
       "2007  2007   36878   48884   85762  43   57\n",
       "2008  2008   35505   57930   93435  38   62\n",
       "2009  2009   23009   46715   69724  33   67\n",
       "2010  2010   37798   44372   82170  46   54\n",
       "2011  2011   74237   71325  145562  51   49\n",
       "2012  2012   74361   80558  154919  48   52\n",
       "2013  2013   70667   67896  138563  51   49\n",
       "2014  2014  103295   74799  178094  58   42\n",
       "2015  2015  107995   95769  203764  53   47\n",
       "2016  2016   68355   55927  124282  55   45\n",
       "2017  2017   68086   70866  138952  49   51\n",
       "2018  2018  103239   91551  194790  53   47\n",
       "2019  2019  109442  101024  210466  52   48"
      ]
     },
     "execution_count": 685,
     "metadata": {},
     "output_type": "execute_result"
    }
   ],
   "source": [
    "cols = ['yr', 'r', 'lh', 'tot', '%r', '%lh']\n",
    "\n",
    "# pass them to df.replace(), specifying each char and it's replacement:\n",
    "prod[cols] = prod[cols].replace({'\\$': '', ',': '','%': ''}, regex=True)\n",
    "prod[cols] = prod[cols].astype(int)\n",
    "prod"
   ]
  },
  {
   "cell_type": "code",
   "execution_count": 686,
   "metadata": {},
   "outputs": [
    {
     "data": {
      "text/plain": [
       "<matplotlib.axes._subplots.AxesSubplot at 0x127e5fe90>"
      ]
     },
     "execution_count": 686,
     "metadata": {},
     "output_type": "execute_result"
    },
    {
     "data": {
      "image/png": "[encoded data removed]",
      "text/plain": [
       "<Figure size 432x288 with 1 Axes>"
      ]
     },
     "metadata": {
      "needs_background": "light"
     },
     "output_type": "display_data"
    }
   ],
   "source": [
    "%matplotlib inline\n",
    "import matplotlib.pyplot as plt\n",
    "prod.plot(kind='scatter',x='yr',y='r')"
   ]
  },
  {
   "cell_type": "code",
   "execution_count": 687,
   "metadata": {},
   "outputs": [
    {
     "data": {
      "text/plain": [
       "<matplotlib.axes._subplots.AxesSubplot at 0x126d015d0>"
      ]
     },
     "execution_count": 687,
     "metadata": {},
     "output_type": "execute_result"
    },
    {
     "data": {
      "image/png": "[encoded data removed]",
      "text/plain": [
       "<Figure size 432x288 with 1 Axes>"
      ]
     },
     "metadata": {
      "needs_background": "light"
     },
     "output_type": "display_data"
    }
   ],
   "source": [
    "prod.plot(kind='scatter',x='yr',y='lh')"
   ]
  },
  {
   "cell_type": "code",
   "execution_count": 688,
   "metadata": {},
   "outputs": [
    {
     "data": {
      "text/plain": [
       "<matplotlib.axes._subplots.AxesSubplot at 0x128394950>"
      ]
     },
     "execution_count": 688,
     "metadata": {},
     "output_type": "execute_result"
    },
    {
     "data": {
      "image/png": "[encoded data removed]",
      "text/plain": [
       "<Figure size 432x288 with 1 Axes>"
      ]
     },
     "metadata": {
      "needs_background": "light"
     },
     "output_type": "display_data"
    }
   ],
   "source": [
    "prod.plot(kind='scatter',x='yr',y='tot')"
   ]
  },
  {
   "cell_type": "code",
   "execution_count": 689,
   "metadata": {},
   "outputs": [
    {
     "data": {
      "text/plain": [
       "<matplotlib.axes._subplots.AxesSubplot at 0x1282cad50>"
      ]
     },
     "execution_count": 689,
     "metadata": {},
     "output_type": "execute_result"
    },
    {
     "data": {
      "image/png": "[encoded data removed]",
      "text/plain": [
       "<Figure size 432x288 with 1 Axes>"
      ]
     },
     "metadata": {
      "needs_background": "light"
     },
     "output_type": "display_data"
    }
   ],
   "source": [
    "prod.plot(kind='scatter',x='yr',y='%r')"
   ]
  },
  {
   "cell_type": "code",
   "execution_count": 690,
   "metadata": {},
   "outputs": [
    {
     "data": {
      "text/plain": [
       "<matplotlib.axes._subplots.AxesSubplot at 0x11ea8bfd0>"
      ]
     },
     "execution_count": 690,
     "metadata": {},
     "output_type": "execute_result"
    },
    {
     "data": {
      "image/png": "[encoded data removed]",
      "text/plain": [
       "<Figure size 432x288 with 1 Axes>"
      ]
     },
     "metadata": {
      "needs_background": "light"
     },
     "output_type": "display_data"
    }
   ],
   "source": [
    "prod.plot(kind='scatter',x='yr',y='%lh')"
   ]
  },
  {
   "cell_type": "code",
   "execution_count": 691,
   "metadata": {},
   "outputs": [
    {
     "data": {
      "text/plain": [
       "174450.8"
      ]
     },
     "execution_count": 691,
     "metadata": {},
     "output_type": "execute_result"
    }
   ],
   "source": [
    "# These averages represent the need for semi trucks by the market.\n",
    "lh_avg = prod['lh'].tail(5).mean()\n",
    "r_avg = prod['r'].tail(5).mean()\n",
    "tot_avg = prod['tot'].tail(5).mean()\n",
    "tot_avg"
   ]
  },
  {
   "cell_type": "code",
   "execution_count": 695,
   "metadata": {},
   "outputs": [
    {
     "data": {
      "text/html": [
       "<div>\n",
       "<style scoped>\n",
       "    .dataframe tbody tr th:only-of-type {\n",
       "        vertical-align: middle;\n",
       "    }\n",
       "\n",
       "    .dataframe tbody tr th {\n",
       "        vertical-align: top;\n",
       "    }\n",
       "\n",
       "    .dataframe thead th {\n",
       "        text-align: right;\n",
       "    }\n",
       "</style>\n",
       "<table border=\"1\" class=\"dataframe\">\n",
       "  <thead>\n",
       "    <tr style=\"text-align: right;\">\n",
       "      <th></th>\n",
       "      <th>yr</th>\n",
       "      <th>r</th>\n",
       "      <th>lh</th>\n",
       "    </tr>\n",
       "  </thead>\n",
       "  <tbody>\n",
       "    <tr>\n",
       "      <td>0</td>\n",
       "      <td>2020</td>\n",
       "      <td>91423.4</td>\n",
       "      <td>83027.4</td>\n",
       "    </tr>\n",
       "    <tr>\n",
       "      <td>1</td>\n",
       "      <td>2021</td>\n",
       "      <td>91423.4</td>\n",
       "      <td>83027.4</td>\n",
       "    </tr>\n",
       "    <tr>\n",
       "      <td>2</td>\n",
       "      <td>2022</td>\n",
       "      <td>91423.4</td>\n",
       "      <td>83027.4</td>\n",
       "    </tr>\n",
       "    <tr>\n",
       "      <td>3</td>\n",
       "      <td>2023</td>\n",
       "      <td>91423.4</td>\n",
       "      <td>83027.4</td>\n",
       "    </tr>\n",
       "    <tr>\n",
       "      <td>4</td>\n",
       "      <td>2024</td>\n",
       "      <td>91423.4</td>\n",
       "      <td>83027.4</td>\n",
       "    </tr>\n",
       "    <tr>\n",
       "      <td>5</td>\n",
       "      <td>2025</td>\n",
       "      <td>91423.4</td>\n",
       "      <td>83027.4</td>\n",
       "    </tr>\n",
       "    <tr>\n",
       "      <td>6</td>\n",
       "      <td>2026</td>\n",
       "      <td>91423.4</td>\n",
       "      <td>83027.4</td>\n",
       "    </tr>\n",
       "    <tr>\n",
       "      <td>7</td>\n",
       "      <td>2027</td>\n",
       "      <td>91423.4</td>\n",
       "      <td>83027.4</td>\n",
       "    </tr>\n",
       "    <tr>\n",
       "      <td>8</td>\n",
       "      <td>2028</td>\n",
       "      <td>91423.4</td>\n",
       "      <td>83027.4</td>\n",
       "    </tr>\n",
       "    <tr>\n",
       "      <td>9</td>\n",
       "      <td>2029</td>\n",
       "      <td>91423.4</td>\n",
       "      <td>83027.4</td>\n",
       "    </tr>\n",
       "    <tr>\n",
       "      <td>10</td>\n",
       "      <td>2030</td>\n",
       "      <td>91423.4</td>\n",
       "      <td>83027.4</td>\n",
       "    </tr>\n",
       "    <tr>\n",
       "      <td>11</td>\n",
       "      <td>2031</td>\n",
       "      <td>91423.4</td>\n",
       "      <td>83027.4</td>\n",
       "    </tr>\n",
       "    <tr>\n",
       "      <td>12</td>\n",
       "      <td>2032</td>\n",
       "      <td>91423.4</td>\n",
       "      <td>83027.4</td>\n",
       "    </tr>\n",
       "    <tr>\n",
       "      <td>13</td>\n",
       "      <td>2033</td>\n",
       "      <td>91423.4</td>\n",
       "      <td>83027.4</td>\n",
       "    </tr>\n",
       "    <tr>\n",
       "      <td>14</td>\n",
       "      <td>2034</td>\n",
       "      <td>91423.4</td>\n",
       "      <td>83027.4</td>\n",
       "    </tr>\n",
       "    <tr>\n",
       "      <td>15</td>\n",
       "      <td>2035</td>\n",
       "      <td>91423.4</td>\n",
       "      <td>83027.4</td>\n",
       "    </tr>\n",
       "    <tr>\n",
       "      <td>16</td>\n",
       "      <td>2036</td>\n",
       "      <td>91423.4</td>\n",
       "      <td>83027.4</td>\n",
       "    </tr>\n",
       "    <tr>\n",
       "      <td>17</td>\n",
       "      <td>2037</td>\n",
       "      <td>91423.4</td>\n",
       "      <td>83027.4</td>\n",
       "    </tr>\n",
       "    <tr>\n",
       "      <td>18</td>\n",
       "      <td>2038</td>\n",
       "      <td>91423.4</td>\n",
       "      <td>83027.4</td>\n",
       "    </tr>\n",
       "    <tr>\n",
       "      <td>19</td>\n",
       "      <td>2039</td>\n",
       "      <td>91423.4</td>\n",
       "      <td>83027.4</td>\n",
       "    </tr>\n",
       "    <tr>\n",
       "      <td>20</td>\n",
       "      <td>2040</td>\n",
       "      <td>91423.4</td>\n",
       "      <td>83027.4</td>\n",
       "    </tr>\n",
       "  </tbody>\n",
       "</table>\n",
       "</div>"
      ],
      "text/plain": [
       "      yr        r       lh\n",
       "0   2020  91423.4  83027.4\n",
       "1   2021  91423.4  83027.4\n",
       "2   2022  91423.4  83027.4\n",
       "3   2023  91423.4  83027.4\n",
       "4   2024  91423.4  83027.4\n",
       "5   2025  91423.4  83027.4\n",
       "6   2026  91423.4  83027.4\n",
       "7   2027  91423.4  83027.4\n",
       "8   2028  91423.4  83027.4\n",
       "9   2029  91423.4  83027.4\n",
       "10  2030  91423.4  83027.4\n",
       "11  2031  91423.4  83027.4\n",
       "12  2032  91423.4  83027.4\n",
       "13  2033  91423.4  83027.4\n",
       "14  2034  91423.4  83027.4\n",
       "15  2035  91423.4  83027.4\n",
       "16  2036  91423.4  83027.4\n",
       "17  2037  91423.4  83027.4\n",
       "18  2038  91423.4  83027.4\n",
       "19  2039  91423.4  83027.4\n",
       "20  2040  91423.4  83027.4"
      ]
     },
     "execution_count": 695,
     "metadata": {},
     "output_type": "execute_result"
    }
   ],
   "source": [
    "# Creating future values for project need for regional and long haul semis\n",
    "proj = pd.DataFrame({\n",
    "    \"yr\": [x for x in range(2020,2041)],\n",
    "    \"r\": [r_avg]*21,\n",
    "    \"lh\": [lh_avg]*21\n",
    "})\n",
    "proj"
   ]
  },
  {
   "cell_type": "code",
   "execution_count": 698,
   "metadata": {},
   "outputs": [
    {
     "data": {
      "text/html": [
       "<div>\n",
       "<style scoped>\n",
       "    .dataframe tbody tr th:only-of-type {\n",
       "        vertical-align: middle;\n",
       "    }\n",
       "\n",
       "    .dataframe tbody tr th {\n",
       "        vertical-align: top;\n",
       "    }\n",
       "\n",
       "    .dataframe thead th {\n",
       "        text-align: right;\n",
       "    }\n",
       "</style>\n",
       "<table border=\"1\" class=\"dataframe\">\n",
       "  <thead>\n",
       "    <tr style=\"text-align: right;\">\n",
       "      <th></th>\n",
       "      <th>yr</th>\n",
       "      <th>r</th>\n",
       "      <th>lh</th>\n",
       "      <th>tot</th>\n",
       "      <th>%r</th>\n",
       "      <th>%lh</th>\n",
       "    </tr>\n",
       "  </thead>\n",
       "  <tbody>\n",
       "    <tr>\n",
       "      <td>0</td>\n",
       "      <td>1999</td>\n",
       "      <td>36910.0</td>\n",
       "      <td>180205.0</td>\n",
       "      <td>217115.0</td>\n",
       "      <td>17.0</td>\n",
       "      <td>83.0</td>\n",
       "    </tr>\n",
       "    <tr>\n",
       "      <td>1</td>\n",
       "      <td>2000</td>\n",
       "      <td>35211.0</td>\n",
       "      <td>105632.0</td>\n",
       "      <td>140843.0</td>\n",
       "      <td>25.0</td>\n",
       "      <td>75.0</td>\n",
       "    </tr>\n",
       "    <tr>\n",
       "      <td>2</td>\n",
       "      <td>2001</td>\n",
       "      <td>25124.0</td>\n",
       "      <td>48771.0</td>\n",
       "      <td>73895.0</td>\n",
       "      <td>34.0</td>\n",
       "      <td>66.0</td>\n",
       "    </tr>\n",
       "    <tr>\n",
       "      <td>3</td>\n",
       "      <td>2002</td>\n",
       "      <td>39794.0</td>\n",
       "      <td>62241.0</td>\n",
       "      <td>102035.0</td>\n",
       "      <td>39.0</td>\n",
       "      <td>61.0</td>\n",
       "    </tr>\n",
       "    <tr>\n",
       "      <td>4</td>\n",
       "      <td>2003</td>\n",
       "      <td>45652.0</td>\n",
       "      <td>60516.0</td>\n",
       "      <td>106168.0</td>\n",
       "      <td>43.0</td>\n",
       "      <td>57.0</td>\n",
       "    </tr>\n",
       "    <tr>\n",
       "      <td>5</td>\n",
       "      <td>2004</td>\n",
       "      <td>77035.0</td>\n",
       "      <td>77035.0</td>\n",
       "      <td>154070.0</td>\n",
       "      <td>50.0</td>\n",
       "      <td>50.0</td>\n",
       "    </tr>\n",
       "    <tr>\n",
       "      <td>6</td>\n",
       "      <td>2005</td>\n",
       "      <td>77893.0</td>\n",
       "      <td>112091.0</td>\n",
       "      <td>189984.0</td>\n",
       "      <td>41.0</td>\n",
       "      <td>59.0</td>\n",
       "    </tr>\n",
       "    <tr>\n",
       "      <td>7</td>\n",
       "      <td>2006</td>\n",
       "      <td>90008.0</td>\n",
       "      <td>114555.0</td>\n",
       "      <td>204563.0</td>\n",
       "      <td>44.0</td>\n",
       "      <td>56.0</td>\n",
       "    </tr>\n",
       "    <tr>\n",
       "      <td>8</td>\n",
       "      <td>2007</td>\n",
       "      <td>36878.0</td>\n",
       "      <td>48884.0</td>\n",
       "      <td>85762.0</td>\n",
       "      <td>43.0</td>\n",
       "      <td>57.0</td>\n",
       "    </tr>\n",
       "    <tr>\n",
       "      <td>9</td>\n",
       "      <td>2008</td>\n",
       "      <td>35505.0</td>\n",
       "      <td>57930.0</td>\n",
       "      <td>93435.0</td>\n",
       "      <td>38.0</td>\n",
       "      <td>62.0</td>\n",
       "    </tr>\n",
       "    <tr>\n",
       "      <td>10</td>\n",
       "      <td>2009</td>\n",
       "      <td>23009.0</td>\n",
       "      <td>46715.0</td>\n",
       "      <td>69724.0</td>\n",
       "      <td>33.0</td>\n",
       "      <td>67.0</td>\n",
       "    </tr>\n",
       "    <tr>\n",
       "      <td>11</td>\n",
       "      <td>2010</td>\n",
       "      <td>37798.0</td>\n",
       "      <td>44372.0</td>\n",
       "      <td>82170.0</td>\n",
       "      <td>46.0</td>\n",
       "      <td>54.0</td>\n",
       "    </tr>\n",
       "    <tr>\n",
       "      <td>12</td>\n",
       "      <td>2011</td>\n",
       "      <td>74237.0</td>\n",
       "      <td>71325.0</td>\n",
       "      <td>145562.0</td>\n",
       "      <td>51.0</td>\n",
       "      <td>49.0</td>\n",
       "    </tr>\n",
       "    <tr>\n",
       "      <td>13</td>\n",
       "      <td>2012</td>\n",
       "      <td>74361.0</td>\n",
       "      <td>80558.0</td>\n",
       "      <td>154919.0</td>\n",
       "      <td>48.0</td>\n",
       "      <td>52.0</td>\n",
       "    </tr>\n",
       "    <tr>\n",
       "      <td>14</td>\n",
       "      <td>2013</td>\n",
       "      <td>70667.0</td>\n",
       "      <td>67896.0</td>\n",
       "      <td>138563.0</td>\n",
       "      <td>51.0</td>\n",
       "      <td>49.0</td>\n",
       "    </tr>\n",
       "    <tr>\n",
       "      <td>15</td>\n",
       "      <td>2014</td>\n",
       "      <td>103295.0</td>\n",
       "      <td>74799.0</td>\n",
       "      <td>178094.0</td>\n",
       "      <td>58.0</td>\n",
       "      <td>42.0</td>\n",
       "    </tr>\n",
       "    <tr>\n",
       "      <td>16</td>\n",
       "      <td>2015</td>\n",
       "      <td>107995.0</td>\n",
       "      <td>95769.0</td>\n",
       "      <td>203764.0</td>\n",
       "      <td>53.0</td>\n",
       "      <td>47.0</td>\n",
       "    </tr>\n",
       "    <tr>\n",
       "      <td>17</td>\n",
       "      <td>2016</td>\n",
       "      <td>68355.0</td>\n",
       "      <td>55927.0</td>\n",
       "      <td>124282.0</td>\n",
       "      <td>55.0</td>\n",
       "      <td>45.0</td>\n",
       "    </tr>\n",
       "    <tr>\n",
       "      <td>18</td>\n",
       "      <td>2017</td>\n",
       "      <td>68086.0</td>\n",
       "      <td>70866.0</td>\n",
       "      <td>138952.0</td>\n",
       "      <td>49.0</td>\n",
       "      <td>51.0</td>\n",
       "    </tr>\n",
       "    <tr>\n",
       "      <td>19</td>\n",
       "      <td>2018</td>\n",
       "      <td>103239.0</td>\n",
       "      <td>91551.0</td>\n",
       "      <td>194790.0</td>\n",
       "      <td>53.0</td>\n",
       "      <td>47.0</td>\n",
       "    </tr>\n",
       "    <tr>\n",
       "      <td>20</td>\n",
       "      <td>2019</td>\n",
       "      <td>109442.0</td>\n",
       "      <td>101024.0</td>\n",
       "      <td>210466.0</td>\n",
       "      <td>52.0</td>\n",
       "      <td>48.0</td>\n",
       "    </tr>\n",
       "    <tr>\n",
       "      <td>21</td>\n",
       "      <td>2020</td>\n",
       "      <td>91423.4</td>\n",
       "      <td>83027.4</td>\n",
       "      <td>NaN</td>\n",
       "      <td>NaN</td>\n",
       "      <td>NaN</td>\n",
       "    </tr>\n",
       "    <tr>\n",
       "      <td>22</td>\n",
       "      <td>2021</td>\n",
       "      <td>91423.4</td>\n",
       "      <td>83027.4</td>\n",
       "      <td>NaN</td>\n",
       "      <td>NaN</td>\n",
       "      <td>NaN</td>\n",
       "    </tr>\n",
       "    <tr>\n",
       "      <td>23</td>\n",
       "      <td>2022</td>\n",
       "      <td>91423.4</td>\n",
       "      <td>83027.4</td>\n",
       "      <td>NaN</td>\n",
       "      <td>NaN</td>\n",
       "      <td>NaN</td>\n",
       "    </tr>\n",
       "    <tr>\n",
       "      <td>24</td>\n",
       "      <td>2023</td>\n",
       "      <td>91423.4</td>\n",
       "      <td>83027.4</td>\n",
       "      <td>NaN</td>\n",
       "      <td>NaN</td>\n",
       "      <td>NaN</td>\n",
       "    </tr>\n",
       "    <tr>\n",
       "      <td>25</td>\n",
       "      <td>2024</td>\n",
       "      <td>91423.4</td>\n",
       "      <td>83027.4</td>\n",
       "      <td>NaN</td>\n",
       "      <td>NaN</td>\n",
       "      <td>NaN</td>\n",
       "    </tr>\n",
       "    <tr>\n",
       "      <td>26</td>\n",
       "      <td>2025</td>\n",
       "      <td>91423.4</td>\n",
       "      <td>83027.4</td>\n",
       "      <td>NaN</td>\n",
       "      <td>NaN</td>\n",
       "      <td>NaN</td>\n",
       "    </tr>\n",
       "    <tr>\n",
       "      <td>27</td>\n",
       "      <td>2026</td>\n",
       "      <td>91423.4</td>\n",
       "      <td>83027.4</td>\n",
       "      <td>NaN</td>\n",
       "      <td>NaN</td>\n",
       "      <td>NaN</td>\n",
       "    </tr>\n",
       "    <tr>\n",
       "      <td>28</td>\n",
       "      <td>2027</td>\n",
       "      <td>91423.4</td>\n",
       "      <td>83027.4</td>\n",
       "      <td>NaN</td>\n",
       "      <td>NaN</td>\n",
       "      <td>NaN</td>\n",
       "    </tr>\n",
       "    <tr>\n",
       "      <td>29</td>\n",
       "      <td>2028</td>\n",
       "      <td>91423.4</td>\n",
       "      <td>83027.4</td>\n",
       "      <td>NaN</td>\n",
       "      <td>NaN</td>\n",
       "      <td>NaN</td>\n",
       "    </tr>\n",
       "    <tr>\n",
       "      <td>30</td>\n",
       "      <td>2029</td>\n",
       "      <td>91423.4</td>\n",
       "      <td>83027.4</td>\n",
       "      <td>NaN</td>\n",
       "      <td>NaN</td>\n",
       "      <td>NaN</td>\n",
       "    </tr>\n",
       "    <tr>\n",
       "      <td>31</td>\n",
       "      <td>2030</td>\n",
       "      <td>91423.4</td>\n",
       "      <td>83027.4</td>\n",
       "      <td>NaN</td>\n",
       "      <td>NaN</td>\n",
       "      <td>NaN</td>\n",
       "    </tr>\n",
       "    <tr>\n",
       "      <td>32</td>\n",
       "      <td>2031</td>\n",
       "      <td>91423.4</td>\n",
       "      <td>83027.4</td>\n",
       "      <td>NaN</td>\n",
       "      <td>NaN</td>\n",
       "      <td>NaN</td>\n",
       "    </tr>\n",
       "    <tr>\n",
       "      <td>33</td>\n",
       "      <td>2032</td>\n",
       "      <td>91423.4</td>\n",
       "      <td>83027.4</td>\n",
       "      <td>NaN</td>\n",
       "      <td>NaN</td>\n",
       "      <td>NaN</td>\n",
       "    </tr>\n",
       "    <tr>\n",
       "      <td>34</td>\n",
       "      <td>2033</td>\n",
       "      <td>91423.4</td>\n",
       "      <td>83027.4</td>\n",
       "      <td>NaN</td>\n",
       "      <td>NaN</td>\n",
       "      <td>NaN</td>\n",
       "    </tr>\n",
       "    <tr>\n",
       "      <td>35</td>\n",
       "      <td>2034</td>\n",
       "      <td>91423.4</td>\n",
       "      <td>83027.4</td>\n",
       "      <td>NaN</td>\n",
       "      <td>NaN</td>\n",
       "      <td>NaN</td>\n",
       "    </tr>\n",
       "    <tr>\n",
       "      <td>36</td>\n",
       "      <td>2035</td>\n",
       "      <td>91423.4</td>\n",
       "      <td>83027.4</td>\n",
       "      <td>NaN</td>\n",
       "      <td>NaN</td>\n",
       "      <td>NaN</td>\n",
       "    </tr>\n",
       "    <tr>\n",
       "      <td>37</td>\n",
       "      <td>2036</td>\n",
       "      <td>91423.4</td>\n",
       "      <td>83027.4</td>\n",
       "      <td>NaN</td>\n",
       "      <td>NaN</td>\n",
       "      <td>NaN</td>\n",
       "    </tr>\n",
       "    <tr>\n",
       "      <td>38</td>\n",
       "      <td>2037</td>\n",
       "      <td>91423.4</td>\n",
       "      <td>83027.4</td>\n",
       "      <td>NaN</td>\n",
       "      <td>NaN</td>\n",
       "      <td>NaN</td>\n",
       "    </tr>\n",
       "    <tr>\n",
       "      <td>39</td>\n",
       "      <td>2038</td>\n",
       "      <td>91423.4</td>\n",
       "      <td>83027.4</td>\n",
       "      <td>NaN</td>\n",
       "      <td>NaN</td>\n",
       "      <td>NaN</td>\n",
       "    </tr>\n",
       "    <tr>\n",
       "      <td>40</td>\n",
       "      <td>2039</td>\n",
       "      <td>91423.4</td>\n",
       "      <td>83027.4</td>\n",
       "      <td>NaN</td>\n",
       "      <td>NaN</td>\n",
       "      <td>NaN</td>\n",
       "    </tr>\n",
       "    <tr>\n",
       "      <td>41</td>\n",
       "      <td>2040</td>\n",
       "      <td>91423.4</td>\n",
       "      <td>83027.4</td>\n",
       "      <td>NaN</td>\n",
       "      <td>NaN</td>\n",
       "      <td>NaN</td>\n",
       "    </tr>\n",
       "  </tbody>\n",
       "</table>\n",
       "</div>"
      ],
      "text/plain": [
       "      yr         r        lh       tot    %r   %lh\n",
       "0   1999   36910.0  180205.0  217115.0  17.0  83.0\n",
       "1   2000   35211.0  105632.0  140843.0  25.0  75.0\n",
       "2   2001   25124.0   48771.0   73895.0  34.0  66.0\n",
       "3   2002   39794.0   62241.0  102035.0  39.0  61.0\n",
       "4   2003   45652.0   60516.0  106168.0  43.0  57.0\n",
       "5   2004   77035.0   77035.0  154070.0  50.0  50.0\n",
       "6   2005   77893.0  112091.0  189984.0  41.0  59.0\n",
       "7   2006   90008.0  114555.0  204563.0  44.0  56.0\n",
       "8   2007   36878.0   48884.0   85762.0  43.0  57.0\n",
       "9   2008   35505.0   57930.0   93435.0  38.0  62.0\n",
       "10  2009   23009.0   46715.0   69724.0  33.0  67.0\n",
       "11  2010   37798.0   44372.0   82170.0  46.0  54.0\n",
       "12  2011   74237.0   71325.0  145562.0  51.0  49.0\n",
       "13  2012   74361.0   80558.0  154919.0  48.0  52.0\n",
       "14  2013   70667.0   67896.0  138563.0  51.0  49.0\n",
       "15  2014  103295.0   74799.0  178094.0  58.0  42.0\n",
       "16  2015  107995.0   95769.0  203764.0  53.0  47.0\n",
       "17  2016   68355.0   55927.0  124282.0  55.0  45.0\n",
       "18  2017   68086.0   70866.0  138952.0  49.0  51.0\n",
       "19  2018  103239.0   91551.0  194790.0  53.0  47.0\n",
       "20  2019  109442.0  101024.0  210466.0  52.0  48.0\n",
       "21  2020   91423.4   83027.4       NaN   NaN   NaN\n",
       "22  2021   91423.4   83027.4       NaN   NaN   NaN\n",
       "23  2022   91423.4   83027.4       NaN   NaN   NaN\n",
       "24  2023   91423.4   83027.4       NaN   NaN   NaN\n",
       "25  2024   91423.4   83027.4       NaN   NaN   NaN\n",
       "26  2025   91423.4   83027.4       NaN   NaN   NaN\n",
       "27  2026   91423.4   83027.4       NaN   NaN   NaN\n",
       "28  2027   91423.4   83027.4       NaN   NaN   NaN\n",
       "29  2028   91423.4   83027.4       NaN   NaN   NaN\n",
       "30  2029   91423.4   83027.4       NaN   NaN   NaN\n",
       "31  2030   91423.4   83027.4       NaN   NaN   NaN\n",
       "32  2031   91423.4   83027.4       NaN   NaN   NaN\n",
       "33  2032   91423.4   83027.4       NaN   NaN   NaN\n",
       "34  2033   91423.4   83027.4       NaN   NaN   NaN\n",
       "35  2034   91423.4   83027.4       NaN   NaN   NaN\n",
       "36  2035   91423.4   83027.4       NaN   NaN   NaN\n",
       "37  2036   91423.4   83027.4       NaN   NaN   NaN\n",
       "38  2037   91423.4   83027.4       NaN   NaN   NaN\n",
       "39  2038   91423.4   83027.4       NaN   NaN   NaN\n",
       "40  2039   91423.4   83027.4       NaN   NaN   NaN\n",
       "41  2040   91423.4   83027.4       NaN   NaN   NaN"
      ]
     },
     "execution_count": 698,
     "metadata": {},
     "output_type": "execute_result"
    }
   ],
   "source": [
    "prod.append(proj,ignore_index=True,sort=False)\n"
   ]
  },
  {
   "cell_type": "code",
   "execution_count": 694,
   "metadata": {},
   "outputs": [
    {
     "data": {
      "image/png": "[encoded data removed]",
      "text/plain": [
       "<Figure size 432x288 with 1 Axes>"
      ]
     },
     "metadata": {
      "needs_background": "light"
     },
     "output_type": "display_data"
    }
   ],
   "source": [
    "# Chance of adopting an electric vehicle\n",
    "def C(t):\n",
    "    chance_of_elec = (0.9/3.225)*np.log(t-2019)+0.05\n",
    "    return chance_of_elec\n",
    "plot(C)\n"
   ]
  },
  {
   "cell_type": "code",
   "execution_count": 665,
   "metadata": {},
   "outputs": [],
   "source": [
    "# Creating year list in order to plot the various functions.\n",
    "years42 = [x for x in range(1999,2041)]\n",
    "years21 = [x for x in range(2020,2041)]"
   ]
  },
  {
   "cell_type": "code",
   "execution_count": 666,
   "metadata": {},
   "outputs": [],
   "source": [
    "def plot(f):\n",
    "    y_vals = [f(y) for y in years21]\n",
    "    plt.plot(years21,y_vals)"
   ]
  },
  {
   "cell_type": "code",
   "execution_count": 667,
   "metadata": {},
   "outputs": [],
   "source": [
    "k = 1"
   ]
  },
  {
   "cell_type": "code",
   "execution_count": 700,
   "metadata": {},
   "outputs": [
    {
     "data": {
      "text/plain": [
       "0"
      ]
     },
     "execution_count": 700,
     "metadata": {},
     "output_type": "execute_result"
    },
    {
     "data": {
      "image/png": "[encoded data removed]",
      "text/plain": [
       "<Figure size 432x288 with 1 Axes>"
      ]
     },
     "metadata": {
      "needs_background": "light"
     },
     "output_type": "display_data"
    }
   ],
   "source": [
    "# Total Long Haul Trucks at given time t\n",
    "def lh_tot(t):\n",
    "    lh_vals = prod.loc[t-4:t,'lh'].sum()\n",
    "    return lh_vals\n",
    "\n",
    "plot(lh_tot)\n",
    "lh_tot(2040)"
   ]
  },
  {
   "cell_type": "code",
   "execution_count": 701,
   "metadata": {},
   "outputs": [
    {
     "data": {
      "image/png": "[encoded data removed]",
      "text/plain": [
       "<Figure size 432x288 with 1 Axes>"
      ]
     },
     "metadata": {
      "needs_background": "light"
     },
     "output_type": "display_data"
    }
   ],
   "source": [
    "# Total Regional Trucks at given time t\n",
    "def r_tot(t):\n",
    "    r_sum = k*prod.loc[t-11:t,'r'].sum()\n",
    "    lh_sum = k*prod.loc[t-11:t-5,'lh'].sum()\n",
    "    return r_sum + lh_sum\n",
    "\n",
    "plot(r_tot)"
   ]
  },
  {
   "cell_type": "code",
   "execution_count": 702,
   "metadata": {},
   "outputs": [
    {
     "data": {
      "image/png": "[encoded data removed]",
      "text/plain": [
       "<Figure size 432x288 with 1 Axes>"
      ]
     },
     "metadata": {
      "needs_background": "light"
     },
     "output_type": "display_data"
    }
   ],
   "source": [
    "def tot_diesel(t):\n",
    "    return lh_tot(t) + r_tot(t)\n",
    "\n",
    "plot(tot_diesel)"
   ]
  },
  {
   "cell_type": "code",
   "execution_count": 671,
   "metadata": {},
   "outputs": [
    {
     "data": {
      "text/plain": [
       "[<matplotlib.lines.Line2D at 0x12530df10>]"
      ]
     },
     "execution_count": 671,
     "metadata": {},
     "output_type": "execute_result"
    },
    {
     "data": {
      "image/png": "[encoded data removed]",
      "text/plain": [
       "<Figure size 432x288 with 1 Axes>"
      ]
     },
     "metadata": {
      "needs_background": "light"
     },
     "output_type": "display_data"
    }
   ],
   "source": [
    "plt.plot(years21, tot_diesel_trucks)"
   ]
  },
  {
   "cell_type": "code",
   "execution_count": 672,
   "metadata": {},
   "outputs": [
    {
     "data": {
      "image/png": "[encoded data removed]",
      "text/plain": [
       "<Figure size 432x288 with 1 Axes>"
      ]
     },
     "metadata": {
      "needs_background": "light"
     },
     "output_type": "display_data"
    }
   ],
   "source": [
    "def tot_electric(t):\n",
    "    lh_sum = prod.loc[2015:t-5,'lh'].sum()\n",
    "    r_sum = prod.loc[2008:t-5,'lh'].sum() + prod.loc[2008:t-5,'r'].sum()\n",
    "    return lh_sum + r_sum\n",
    "\n",
    "plot(tot_electric)"
   ]
  },
  {
   "cell_type": "code",
   "execution_count": 673,
   "metadata": {},
   "outputs": [
    {
     "data": {
      "text/plain": [
       "[<matplotlib.lines.Line2D at 0x1269b3950>]"
      ]
     },
     "execution_count": 673,
     "metadata": {},
     "output_type": "execute_result"
    },
    {
     "data": {
      "image/png": "[encoded data removed]",
      "text/plain": [
       "<Figure size 432x288 with 1 Axes>"
      ]
     },
     "metadata": {
      "needs_background": "light"
     },
     "output_type": "display_data"
    }
   ],
   "source": [
    "tot_electric_trucks = [tot_electric(t) for t in years21]\n",
    "plt.plot(years21,tot_electric_trucks)"
   ]
  },
  {
   "cell_type": "code",
   "execution_count": 724,
   "metadata": {},
   "outputs": [
    {
     "data": {
      "image/png": "[encoded data removed]",
      "text/plain": [
       "<Figure size 432x288 with 1 Axes>"
      ]
     },
     "metadata": {
      "needs_background": "light"
     },
     "output_type": "display_data"
    }
   ],
   "source": [
    "proportion = [100*(e/(e+d)) for e,d in zip(tot_electric_trucks,tot_diesel_trucks)]\n",
    "plt.plot(years21,proportion)\n",
    "plt.xlabel(\"Year\")\n",
    "plt.ylabel(\"Percentage of Semis That Are Electric\")\n",
    "xposition = [2025,2030,2040]\n",
    "for xc in xposition:\n",
    "    plt.axvline(x=xc,color='r',linestyle='--')\n",
    "    \n",
    "plt.savefig('percent_electric_semi')"
   ]
  },
  {
   "cell_type": "code",
   "execution_count": 722,
   "metadata": {},
   "outputs": [
    {
     "name": "stdout",
     "output_type": "stream",
     "text": [
      "67.17873786874969\n",
      "91.08317332705171\n",
      "100.0\n"
     ]
    }
   ],
   "source": [
    "for x in [5,10,20]:\n",
    "    print(proportion[x])"
   ]
  },
  {
   "cell_type": "code",
   "execution_count": null,
   "metadata": {},
   "outputs": [],
   "source": []
  },
  {
   "cell_type": "code",
   "execution_count": null,
   "metadata": {},
   "outputs": [],
   "source": []
  },
  {
   "cell_type": "code",
   "execution_count": null,
   "metadata": {},
   "outputs": [],
   "source": []
  },
  {
   "cell_type": "code",
   "execution_count": null,
   "metadata": {},
   "outputs": [],
   "source": []
  }
 ],
 "metadata": {
  "kernelspec": {
   "display_name": "Python 3",
   "language": "python",
   "name": "python3"
  },
  "language_info": {
   "codemirror_mode": {
    "name": "ipython",
    "version": 3
   },
   "file_extension": ".py",
   "mimetype": "text/x-python",
   "name": "python",
   "nbconvert_exporter": "python",
   "pygments_lexer": "ipython3",
   "version": "3.7.4"
  }
 },
 "nbformat": 4,
 "nbformat_minor": 2
}
